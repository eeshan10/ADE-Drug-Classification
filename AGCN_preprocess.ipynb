{
 "cells": [
  {
   "cell_type": "code",
   "execution_count": 1,
   "metadata": {
    "id": "1xBTbm3T6Lcb"
   },
   "outputs": [],
   "source": [
    "import os\n",
    "import pandas as pd\n",
    "import numpy as np"
   ]
  },
  {
   "cell_type": "code",
   "execution_count": null,
   "metadata": {},
   "outputs": [],
   "source": [
    "569, 665,1283, 1315, 1347, 1379, 1411, 665,1347,1411, 569,601,633, 665,697, 1155,1187, 1219, 1251,1283, 1315, 1347, 1379, 1411,\n",
    "665, 1283, 1315,1347, 1379, 1411, \n",
    "\n",
    "[\n",
    "[\n",
    "[\n",
    "[ \n",
    "[\n",
    "[ \n",
    "[ [\n",
    "[ \n",
    "[\n",
    "[\n",
    "[\n",
    "[\n",
    "[ [\n",
    "[\n",
    "[\n",
    "[\n",
    "[ \n",
    "[\n",
    "[[\n",
    "[\n",
    "[\n",
    "[\n",
    "\n"
   ]
  },
  {
   "cell_type": "code",
   "execution_count": null,
   "metadata": {
    "colab": {
     "base_uri": "https://localhost:8080/"
    },
    "id": "Dj3Tp9yN6NE8",
    "outputId": "1b18e6e9-06fb-4a72-aeed-16dd5416c8d0"
   },
   "outputs": [
    {
     "name": "stdout",
     "output_type": "stream",
     "text": [
      "Mounted at /mntDrive\n"
     ]
    }
   ],
   "source": [
    "from google.colab import drive \n",
    "drive.mount('/mntDrive') "
   ]
  },
  {
   "cell_type": "code",
   "execution_count": null,
   "metadata": {
    "colab": {
     "base_uri": "https://localhost:8080/"
    },
    "id": "-EqWQnum6Q-s",
    "outputId": "7b2393da-830d-4250-c875-bab4b711d4b5"
   },
   "outputs": [
    {
     "name": "stdout",
     "output_type": "stream",
     "text": [
      "/mntDrive/My Drive/Test_data/test\n"
     ]
    }
   ],
   "source": [
    "\n",
    "%cd /mntDrive/My Drive/Test_data/test"
   ]
  },
  {
   "cell_type": "code",
   "execution_count": null,
   "metadata": {
    "colab": {
     "base_uri": "https://localhost:8080/",
     "height": 35
    },
    "id": "54Kf3b1Q7qNM",
    "outputId": "ec90eb78-3fc4-460f-9f65-eb1ba8290e0e"
   },
   "outputs": [
    {
     "data": {
      "application/vnd.google.colaboratory.intrinsic+json": {
       "type": "string"
      },
      "text/plain": [
       "'/mntDrive/My Drive/Test_data/test'"
      ]
     },
     "execution_count": 71,
     "metadata": {
      "tags": []
     },
     "output_type": "execute_result"
    }
   ],
   "source": [
    "%pwd"
   ]
  },
  {
   "cell_type": "code",
   "execution_count": null,
   "metadata": {
    "id": "LFc0Di7a6Lcc"
   },
   "outputs": [],
   "source": [
    "def make_dictionaries(entities, relations, an):\n",
    "    \n",
    "\n",
    "    STANDOFF_ENTITY_PREFIX = 'T'\n",
    "    STANDOFF_RELATION_PREFIX = 'R'\n",
    "    \n",
    "    lines = an.readlines()\n",
    "    for line in lines:\n",
    "        standoff_line = line.split(\"\\t\")\n",
    "        \n",
    "        if standoff_line[0][0] == STANDOFF_ENTITY_PREFIX:\n",
    "            standoff_id= standoff_line[0]\n",
    "            entities[standoff_id]= {}\n",
    "            entities[standoff_id]['standoff_id'] = standoff_line[0]\n",
    "            entities[standoff_id]['entity_type'] =   standoff_line[1].split()[0].upper() \n",
    "            if ';' in standoff_line[1]:\n",
    "                word_1 = standoff_line[1].split(';')[0]\n",
    "                word_2= standoff_line[1].split(';')[1]\n",
    "                entities[standoff_id]['offset_start'] = word_1.split()[1]\n",
    "                entities[standoff_id]['offset_end']= word_2.split()[1]\n",
    "                entities[standoff_id]['word'] = standoff_line[2].strip('\\n')\n",
    "            else:\n",
    "                entities[standoff_id]['offset_start'] = standoff_line[1].split()[1]\n",
    "                entities[standoff_id]['offset_end'] = standoff_line[1].split()[2]\n",
    "                entities[standoff_id]['word'] = standoff_line[2].strip('\\n')\n",
    "                \n",
    "        elif standoff_line[0][0] == STANDOFF_RELATION_PREFIX:\n",
    "            relation_id=  standoff_line[0]\n",
    "            relations[relation_id]= {}\n",
    "            relations[relation_id]['standoff_id'] = standoff_line[0]\n",
    "            splt_str= standoff_line[1].split()\n",
    "            relations[relation_id]['name'] = splt_str[0]\n",
    "            relations[relation_id]['standoff_entity1_id'] = splt_str[1].split(':')[1]\n",
    "            relations[relation_id]['standoff_entity2_id'] = splt_str[2].split(':')[1]\n",
    "        \n",
    "            \n",
    "        an.close()\n",
    "    return entities, relations"
   ]
  },
  {
   "cell_type": "markdown",
   "metadata": {
    "id": "pFxIVfI9ashB"
   },
   "source": [
    "The replace_text and subsequent functions, dataframes were changed for Reason Drug accordingly"
   ]
  },
  {
   "cell_type": "code",
   "execution_count": null,
   "metadata": {
    "id": "69rD1oNG6Lcc"
   },
   "outputs": [],
   "source": [
    "def replace_text_n(text, entities):\n",
    "\n",
    "    text_n= text\n",
    "    for ind in range(len(entities)):\n",
    "        \n",
    "            if entities[ind]['entity_type']== 'DRUG':\n",
    "                strt= int(entities[ind]['offset_start'])\n",
    "                end= int(entities[ind]['offset_end'])\n",
    "                text_n= text_n[:strt] +'<' + 'e1'+'>'+ entities[ind]['word'] + '</'+ 'e1'+ '>'+ text_n[end:]\n",
    "            \n",
    "            if entities[ind]['entity_type']=='ADE':\n",
    "                strt= int(entities[ind]['offset_start'])\n",
    "                end= int(entities[ind]['offset_end'])\n",
    "                text_n= text_n[:strt] +'<' + 'e2'+'>'+ entities[ind]['word'] + '</'+ 'e2'+ '>'+ text_n[end:]\n",
    "            \n",
    "                \n",
    "    return text_n"
   ]
  },
  {
   "cell_type": "code",
   "execution_count": null,
   "metadata": {
    "id": "uOnC5IzZ6Lcc"
   },
   "outputs": [],
   "source": [
    "def conv_sent(text):\n",
    "    sents = [sent for sent in text.split('.')]\n",
    "    \n",
    "    df= pd.DataFrame(data= sents, columns=['Text'])\n",
    "    return df"
   ]
  },
  {
   "cell_type": "code",
   "execution_count": null,
   "metadata": {
    "id": "m3ip0-DV6Lcc"
   },
   "outputs": [],
   "source": [
    "# df_pos= pd.DataFrame()\n",
    "# df_neg= pd.DataFrame()\n",
    "pos_sent_sp_t=[]\n",
    "neg_sent_sp_t=[]\n",
    "\n",
    "def positive_rel(sent):\n",
    "    if w_1 in sent and w_2 in sent:\n",
    "        pos_sent_sp_t.append(sent)\n",
    "    elif '<e1>' not in sent and '<e2>' in sent:\n",
    "        neg_sent_sp_t.append(sent)\n",
    "    elif '<e1>' in sent and '<e2>' not in sent:\n",
    "        neg_sent_sp_t.append(sent)\n",
    "        \n",
    "\n",
    "\n",
    "\n",
    "\n",
    "\n",
    "ann_data_files = [f for f in os.listdir() if f.split('.')[1] == 'ann']\n",
    "for file in ann_data_files:\n",
    "    df_neg_prt= pd.DataFrame()\n",
    "    \n",
    "    \n",
    "    an= open(file, 'r')\n",
    "    \n",
    "    \n",
    "    entities={}\n",
    "    relations={}\n",
    "    \n",
    "    #extract the entities and relations from annotation files\n",
    "    entities, relations= make_dictionaries(entities, relations, an)\n",
    "    # sort entities according to the start index of entities.\n",
    "    ls=[]\n",
    "    for key in entities.keys():\n",
    "        ls.append(entities[key])\n",
    "    sort_ent= sorted(ls, key = lambda i: int(i['offset_start']), reverse= True)\n",
    "    \n",
    "    with open(file.replace('.ann', '.txt'), 'r') as document_text_file:\n",
    "        doc_text= document_text_file.read()\n",
    "    \n",
    "   \n",
    "    \n",
    "    text_ls= replace_text_n(doc_text, sort_ent) ## replaces the words with entities\n",
    "    \n",
    "    df_t= conv_sent(text_ls) ## converts the list into a dataframe\n",
    "    \n",
    "    \n",
    "#neg_sent\n",
    "    #label='not found'\n",
    "    for idx in relations:\n",
    "#     print(idx)\n",
    "        if relations[idx]['name']== 'ADE-Drug':\n",
    "            id_1= relations[idx]['standoff_entity1_id']\n",
    "            id_2= relations[idx]['standoff_entity2_id']\n",
    "#             print(entities[id_1]['entity_type'])\n",
    "            if entities[id_1]['entity_type']=='DRUG':\n",
    "                 w_1='<e1>'+ entities[id_1]['word'] + '</e1>'\n",
    "            elif entities[id_1]['entity_type']=='ADE':\n",
    "                 w_1='<e2>'+ entities[id_1]['word']+ '</e2>'\n",
    "            if entities[id_2]['entity_type']=='ADE':\n",
    "                 w_2='<e2>'+ entities[id_2]['word'] + '</e2>'\n",
    "            elif entities[id_2]['entity_type']=='DRUG':\n",
    "                 w_2='<e1>'+ entities[id_2]['word'] + '</e1>'\n",
    "#             print(id_1, entities[id_2]['entity_type'])\n",
    "#             print('The first word is', w_1)\n",
    "#             print(\"The second word is\", w_2)\n",
    "            \n",
    "#             w1= entities[id_1]['word']\n",
    "#             w2= entities[id_2]['word']\n",
    "            \n",
    "            df_t['Text'].apply(positive_rel)"
   ]
  },
  {
   "cell_type": "code",
   "execution_count": null,
   "metadata": {
    "colab": {
     "base_uri": "https://localhost:8080/",
     "height": 35
    },
    "id": "4bsjTDuT7io4",
    "outputId": "d0ffa952-5327-4c10-a6b2-c82bad529405"
   },
   "outputs": [
    {
     "data": {
      "application/vnd.google.colaboratory.intrinsic+json": {
       "type": "string"
      },
      "text/plain": [
       "' <e1>acetaminophen</e1> 325 mg Tablet Sig: 1-2 Tablets PO Q4H (every 4\\nhours) as needed for pain/temp'"
      ]
     },
     "execution_count": 29,
     "metadata": {
      "tags": []
     },
     "output_type": "execute_result"
    }
   ],
   "source": [
    "neg_sent_sp[250]"
   ]
  },
  {
   "cell_type": "code",
   "execution_count": null,
   "metadata": {
    "colab": {
     "base_uri": "https://localhost:8080/"
    },
    "id": "oITwrB436Lcc",
    "outputId": "9c2a1ea0-e282-4fb0-c714-9fd7199e3d69"
   },
   "outputs": [
    {
     "name": "stderr",
     "output_type": "stream",
     "text": [
      "Skipping line 146: '\t' expected after '\"'\n",
      "Skipping line 493: Expected 3 fields in line 493, saw 4\n",
      "Skipping line 495: Expected 3 fields in line 495, saw 4\n"
     ]
    }
   ],
   "source": [
    "ann_data_files = [f for f in os.listdir() if f.split('.')[1] == 'ann']\n",
    "cnt=0\n",
    "anot_df= pd.DataFrame()\n",
    "for file in ann_data_files:\n",
    "    an= open(file, 'r')\n",
    "    df_prt = pd.read_csv(an, sep='\\t',  error_bad_lines=False, header=None, names=['Index','Details','Word'], engine='python')\n",
    "    anot_df= anot_df.append(df_prt, ignore_index= False)\n",
    "    \n",
    "    an.close()"
   ]
  },
  {
   "cell_type": "code",
   "execution_count": null,
   "metadata": {
    "id": "biGeL2-B6Lcd"
   },
   "outputs": [],
   "source": [
    "#df_neg= pd.DataFrame(data= neg_sent_sp, columns=['Text'])\n",
    "df_pos= pd.DataFrame(data= pos_sent_sp, columns=['Text'])"
   ]
  },
  {
   "cell_type": "code",
   "execution_count": null,
   "metadata": {
    "id": "ONm5m7Zt6Lcd"
   },
   "outputs": [],
   "source": [
    "relations_df = anot_df[anot_df['Index'].str.startswith('R')]\n",
    "#relations_df.head()\n",
    "\n",
    "entity_df = anot_df[~anot_df['Index'].str.startswith('R')]\n"
   ]
  },
  {
   "cell_type": "code",
   "execution_count": null,
   "metadata": {
    "colab": {
     "base_uri": "https://localhost:8080/"
    },
    "id": "lXRePWitBVVA",
    "outputId": "26cbac45-0d4c-47ec-9372-64858a2d8581"
   },
   "outputs": [
    {
     "name": "stderr",
     "output_type": "stream",
     "text": [
      "/usr/local/lib/python3.6/dist-packages/ipykernel_launcher.py:1: SettingWithCopyWarning: \n",
      "A value is trying to be set on a copy of a slice from a DataFrame\n",
      "\n",
      "See the caveats in the documentation: https://pandas.pydata.org/pandas-docs/stable/user_guide/indexing.html#returning-a-view-versus-a-copy\n",
      "  \"\"\"Entry point for launching an IPython kernel.\n"
     ]
    }
   ],
   "source": [
    "entity_df.dropna(axis=0, inplace= True)"
   ]
  },
  {
   "cell_type": "code",
   "execution_count": null,
   "metadata": {
    "id": "Als3HYTT6Lcd"
   },
   "outputs": [],
   "source": [
    "ade_df= entity_df[entity_df['Details'].str.startswith('A')]\n",
    "ls_ad= ade_df['Word'].unique()\n",
    "dr_df= entity_df[entity_df['Details'].str.startswith('Dr')]\n",
    "ls_dru= dr_df['Word'].unique()"
   ]
  },
  {
   "cell_type": "code",
   "execution_count": null,
   "metadata": {
    "id": "MAPLNg5-6Lcd"
   },
   "outputs": [],
   "source": [
    "ade_mp={}\n",
    "for w1 in ls_ad:\n",
    "    \n",
    "    string_1= '<n2>'+ '<e2>' + w1 + '</e2>'\n",
    "    ade_mp[w1]= string_1\n",
    "\n",
    "dr_mp={}\n",
    "for w2 in ls_dru:    \n",
    "    \n",
    "    string_2= '<n1>'+ '<e1>' + w2 + '</e1>'\n",
    "    dr_mp[w2]= string_2"
   ]
  },
  {
   "cell_type": "code",
   "execution_count": null,
   "metadata": {
    "id": "Ma6nYppu5Meo"
   },
   "outputs": [],
   "source": [
    "def extrc_ade(col):\n",
    "    if '<e2>' in col:\n",
    "      ex_ade_t.append(col)\n",
    "\n",
    "def extrc_dr(col):\n",
    "    if '<e1>' in col:\n",
    "      ex_drug_t.append(col)\n",
    "\n",
    "ex_ade_t=[]\n",
    "ex_drug_t=[]\n",
    "\n",
    "df_negt_prt= pd.DataFrame(data= neg_sent_sp_t, columns=['Text'])\n",
    "df_negt_prt['Text'].apply(extrc_ade)\n",
    "df_negt_prt['Text'].apply(extrc_dr)"
   ]
  },
  {
   "cell_type": "code",
   "execution_count": null,
   "metadata": {
    "id": "pMdwhdwvTAL_"
   },
   "outputs": [],
   "source": [
    "neg_ade_t=[]\n",
    "for sent_te in ex_drug_t:\n",
    "  for i, j in ade_mp.items():\n",
    "    if i in sent_te:\n",
    "      # print(sent)\n",
    "      # print(neg_sent_sp.index(sent))\n",
    "      sent_te1= sent_te\n",
    "      sent_te1 = re.sub(r\"\\b%s\\b\" % i, j, sent_te1)\n",
    "      \n",
    "      if j in sent_te1 and sent_te1 not in neg_ade_t:\n",
    "        neg_ade_t.append(sent_te1)\n",
    "\n",
    "\n",
    "\n",
    "\n"
   ]
  },
  {
   "cell_type": "code",
   "execution_count": null,
   "metadata": {
    "id": "Rq_gJsPcRSAK"
   },
   "outputs": [],
   "source": [
    "neg_ade_t1=[]\n",
    "for sent_t in ex_ade_t:\n",
    "  for i, j in dr_mp.items():\n",
    "    if i in sent_t:\n",
    "      #print(sent)\n",
    "      # print(neg_sent_sp.index(sent))\n",
    "      sent_t1= sent_t\n",
    "      sent_t1 = re.sub(r\"\\b%s\\b\" % i, j, sent_t1)\n",
    "      \n",
    "      if j in sent_t1 and sent_t1 not in neg_ade_t1:\n",
    "        neg_ade_t1.append(sent_t1)"
   ]
  },
  {
   "cell_type": "code",
   "execution_count": null,
   "metadata": {
    "id": "FZJLBtuIbSiH"
   },
   "outputs": [],
   "source": [
    "df_pos_t= pd.DataFrame(data= pos_sent_sp_t, columns=['Text'])\n"
   ]
  },
  {
   "cell_type": "code",
   "execution_count": null,
   "metadata": {
    "id": "h6WUudUCg9iZ"
   },
   "outputs": [],
   "source": [
    "df_neg_adet= pd.DataFrame(data= neg_ade_t, columns=['Text'])\n"
   ]
  },
  {
   "cell_type": "code",
   "execution_count": null,
   "metadata": {
    "colab": {
     "base_uri": "https://localhost:8080/"
    },
    "id": "RdIPW5er-NLO",
    "outputId": "c2f20e8e-4d91-4bd6-d980-d127131aa757"
   },
   "outputs": [
    {
     "data": {
      "text/plain": [
       "0     for breast cancer\\ndiagnosed in [**11/2098**]...\n",
       "1     for breast cancer diagnosed in\\n[**11/2098**]...\n",
       "2    \\n# Acute  <e2>renal failure</e2>:\\n- <e1>IVFs...\n",
       "3    \\n#  <e2>Acute renal failure</e2>:\\n- <e1>IVFs...\n",
       "4    5 mg [**Hospital1 **] prn\\n <e2>anxiety</e2>\\n...\n",
       "Name: Text, dtype: object"
      ]
     },
     "execution_count": 94,
     "metadata": {
      "tags": []
     },
     "output_type": "execute_result"
    }
   ],
   "source": [
    "df_neg_adet['Text']= df_neg_ade['Text'].str.replace('<n1>', ' ')\n",
    "df_neg_adet['Text']= df_neg_ade['Text'].str.replace('<n2>', ' ')\n",
    "df_neg_adet['Text'].head()"
   ]
  },
  {
   "cell_type": "code",
   "execution_count": null,
   "metadata": {
    "id": "1yIC4iQVt5-_"
   },
   "outputs": [],
   "source": [
    "#df_pos_t= pd.DataFrame(data= pos_sent_sp_t, columns=['Text'])\n",
    "df_pos_t['relation']= 'ADE-DRUG(e2-e1)'"
   ]
  },
  {
   "cell_type": "code",
   "execution_count": null,
   "metadata": {
    "id": "3r01f8IO6Lcd"
   },
   "outputs": [],
   "source": [
    "df_neg_adet['relation']='Other'"
   ]
  },
  {
   "cell_type": "code",
   "execution_count": null,
   "metadata": {
    "colab": {
     "base_uri": "https://localhost:8080/"
    },
    "id": "_GlUvrEtwexL",
    "outputId": "a38bd32c-070b-4d2b-f443-b210908f7f89"
   },
   "outputs": [
    {
     "name": "stdout",
     "output_type": "stream",
     "text": [
      " At that same time he was started on\n",
      "<e1>Vancomycin</e1> since his <n2><e2>allergy</e2> was questionable and he had a\n",
      "permanent tunneled line \n",
      "\n",
      "  His post-operative course was\n",
      "complicated by <n2><e2>fevers</e2>, confusion, unstable vitals consistent\n",
      "with urosepsis/shock, requiring transfer to the  MICU and broad\n",
      "<e1>antibiotic</e1> therapy, now transferred back to the [**Doctor Last Name 3271**]-[**Doctor Last Name 679**]\n",
      "service, stable, and ready for discharge\n",
      "\n",
      " You have now completed intravenous <e1>antibiotic</e1> therapy for that\n",
      "<n2><e2>infection</e2> and have three days remaining of an oral <e1>antibiotic</e1>\n",
      "(see below)\n"
     ]
    }
   ],
   "source": [
    "print(neg_ade_t[710], '\\n')\n",
    "print(neg_ade_t[10])\n",
    "print(neg_ade_t[15])"
   ]
  },
  {
   "cell_type": "code",
   "execution_count": null,
   "metadata": {
    "id": "zJIVhTT86Lcd"
   },
   "outputs": [],
   "source": [
    "df_ade_t= pd.concat([df_pos_t, df_neg_adet], axis=0, ignore_index= True)\n"
   ]
  },
  {
   "cell_type": "code",
   "execution_count": null,
   "metadata": {
    "id": "HO0OOvwr6Lcd"
   },
   "outputs": [],
   "source": [
    "df_ade_t.to_csv(r'/mntDrive/My Drive/Edge Sampling/ade_test_new_edge.csv', encoding='utf-8')"
   ]
  },
  {
   "cell_type": "code",
   "execution_count": null,
   "metadata": {
    "id": "Vw44XIBp6Lcd"
   },
   "outputs": [],
   "source": []
  },
  {
   "cell_type": "code",
   "execution_count": null,
   "metadata": {
    "id": "IF8On-Wh6Lcd"
   },
   "outputs": [],
   "source": []
  },
  {
   "cell_type": "code",
   "execution_count": null,
   "metadata": {
    "id": "6P7YBaLO6Lcd"
   },
   "outputs": [],
   "source": []
  },
  {
   "cell_type": "code",
   "execution_count": null,
   "metadata": {
    "id": "SF0B8oOV6Lcd"
   },
   "outputs": [],
   "source": []
  }
 ],
 "metadata": {
  "colab": {
   "collapsed_sections": [],
   "name": "AGCN_preprocess.ipynb",
   "provenance": []
  },
  "kernelspec": {
   "display_name": "Python 3",
   "language": "python",
   "name": "python3"
  },
  "language_info": {
   "codemirror_mode": {
    "name": "ipython",
    "version": 3
   },
   "file_extension": ".py",
   "mimetype": "text/x-python",
   "name": "python",
   "nbconvert_exporter": "python",
   "pygments_lexer": "ipython3",
   "version": "3.8.3"
  }
 },
 "nbformat": 4,
 "nbformat_minor": 1
}
